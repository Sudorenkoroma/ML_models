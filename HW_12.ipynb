{
  "nbformat": 4,
  "nbformat_minor": 0,
  "metadata": {
    "colab": {
      "provenance": [],
      "authorship_tag": "ABX9TyN3JmEBHzta0nHLol1Tr7pn",
      "include_colab_link": true
    },
    "kernelspec": {
      "name": "python3",
      "display_name": "Python 3"
    },
    "language_info": {
      "name": "python"
    }
  },
  "cells": [
    {
      "cell_type": "markdown",
      "metadata": {
        "id": "view-in-github",
        "colab_type": "text"
      },
      "source": [
        "<a href=\"https://colab.research.google.com/github/Sudorenkoroma/HW_GI_ML/blob/main/HW_12.ipynb\" target=\"_parent\"><img src=\"https://colab.research.google.com/assets/colab-badge.svg\" alt=\"Open In Colab\"/></a>"
      ]
    },
    {
      "cell_type": "code",
      "execution_count": 17,
      "metadata": {
        "id": "-O__ZdqgE9Yf"
      },
      "outputs": [],
      "source": [
        "import spacy\n",
        "import nltk\n",
        "from nltk.corpus import stopwords\n",
        "from nltk.tokenize import sent_tokenize, word_tokenize\n",
        "from collections import Counter\n",
        "import string"
      ]
    },
    {
      "cell_type": "code",
      "source": [
        "# Load spaCy model\n",
        "nlp = spacy.load('en_core_web_sm')\n",
        "\n",
        "# Download necessary NLTK resources\n",
        "nltk.download('punkt')\n",
        "nltk.download('stopwords')"
      ],
      "metadata": {
        "colab": {
          "base_uri": "https://localhost:8080/"
        },
        "id": "Z0-naolUFGL2",
        "outputId": "4a8e7cbb-e516-4041-b694-4125c6edef37"
      },
      "execution_count": 18,
      "outputs": [
        {
          "output_type": "stream",
          "name": "stderr",
          "text": [
            "[nltk_data] Downloading package punkt to /root/nltk_data...\n",
            "[nltk_data]   Package punkt is already up-to-date!\n",
            "[nltk_data] Downloading package stopwords to /root/nltk_data...\n",
            "[nltk_data]   Package stopwords is already up-to-date!\n"
          ]
        },
        {
          "output_type": "execute_result",
          "data": {
            "text/plain": [
              "True"
            ]
          },
          "metadata": {},
          "execution_count": 18
        }
      ]
    },
    {
      "cell_type": "code",
      "source": [
        "# Text for processing\n",
        "text = \"\"\"The Orbiter Discovery, OV-103, is considered eligible for listing in the National Register of Historic Places (NRHP) in the context of the U.S. Space Shuttle Program (1969-2011) under Criterion A in the areas of Space Exploration and Transportation and under Criterion C in the area of Engineering. Because it has achieved significance within the past fifty years, Criteria Consideration G applies. Under Criterion A, Discovery is significant as the oldest of the three extant orbiter vehicles constructed for the Space Shuttle Program (SSP), the longest running American space program to date; she was the third of five orbiters built by NASA. Unlike the Mercury, Gemini, and Apollo programs, the SSP’s emphasis was on cost effectiveness and reusability, and eventually the construction of a space station. Including her maiden voyage (launched August 30, 1984), Discovery flew to space thirty-nine times, more than any of the other four orbiters; she was also the first orbiter to fly twenty missions. She had the honor of being chosen as the Return to Flight vehicle after both the Challenger and Columbia accidents. Discovery was the first shuttle to fly with the redesigned SRBs, a result of the Challenger accident, and the first shuttle to fly with the Phase II and Block I SSME. Discovery also carried the Hubble Space Telescope to orbit and performed two of the five servicing missions to the observatory. She flew the first and last dedicated Department of Defense (DoD) missions, as well as the first unclassified defense-related mission. In addition, Discovery was vital to the construction of the International Space Station (ISS); she flew thirteen of the thirty-seven total missions flown to the station by a U.S. Space Shuttle. She was the first orbiter to dock to the ISS, and the first to perform an exchange of a resident crew. Under Criterion C, Discovery is significant as a feat of engineering. According to Wayne Hale, a flight director from Johnson Space Center, the Space Shuttle orbiter represents a “huge technological leap from expendable rockets and capsules to a reusable, winged, hypersonic, cargo-carrying spacecraft.” Although her base structure followed a conventional aircraft design, she used advanced materials that both minimized her weight for cargo-carrying purposes and featured low thermal expansion ratios, which provided a stable base for her Thermal Protection System (TPS) materials. The Space Shuttle orbiter also featured the first reusable TPS; all previous spaceflight vehicles had a single-use, ablative heat shield. Other notable engineering achievements of the orbiter included the first reusable orbital propulsion system, and the first two-fault-tolerant Integrated Avionics System. As Hale stated, the Space Shuttle remains “the largest, fastest, winged hypersonic aircraft in history,” having regularly flown at twenty-five times the speed of sound.\n",
        "\"\"\""
      ],
      "metadata": {
        "id": "9YuC_qv-Sc3F"
      },
      "execution_count": 19,
      "outputs": []
    },
    {
      "cell_type": "code",
      "source": [
        "# Tokenization and sentence splitting\n",
        "sentences = sent_tokenize(text)\n",
        "stop_words = set(stopwords.words('english'))\n",
        "punctuation = string.punctuation"
      ],
      "metadata": {
        "id": "MvDkU4n7FXr5"
      },
      "execution_count": 25,
      "outputs": []
    },
    {
      "cell_type": "code",
      "source": [
        "sentences"
      ],
      "metadata": {
        "colab": {
          "base_uri": "https://localhost:8080/"
        },
        "id": "Ii-Xk6i5fWFr",
        "outputId": "34b104e3-6128-41ce-cf8d-a78f9459d811"
      },
      "execution_count": 33,
      "outputs": [
        {
          "output_type": "execute_result",
          "data": {
            "text/plain": [
              "['The Orbiter Discovery, OV-103, is considered eligible for listing in the National Register of Historic Places (NRHP) in the context of the U.S. Space Shuttle Program (1969-2011) under Criterion A in the areas of Space Exploration and Transportation and under Criterion C in the area of Engineering.',\n",
              " 'Because it has achieved significance within the past fifty years, Criteria Consideration G applies.',\n",
              " 'Under Criterion A, Discovery is significant as the oldest of the three extant orbiter vehicles constructed for the Space Shuttle Program (SSP), the longest running American space program to date; she was the third of five orbiters built by NASA.',\n",
              " 'Unlike the Mercury, Gemini, and Apollo programs, the SSP’s emphasis was on cost effectiveness and reusability, and eventually the construction of a space station.',\n",
              " 'Including her maiden voyage (launched August 30, 1984), Discovery flew to space thirty-nine times, more than any of the other four orbiters; she was also the first orbiter to fly twenty missions.',\n",
              " 'She had the honor of being chosen as the Return to Flight vehicle after both the Challenger and Columbia accidents.',\n",
              " 'Discovery was the first shuttle to fly with the redesigned SRBs, a result of the Challenger accident, and the first shuttle to fly with the Phase II and Block I SSME.',\n",
              " 'Discovery also carried the Hubble Space Telescope to orbit and performed two of the five servicing missions to the observatory.',\n",
              " 'She flew the first and last dedicated Department of Defense (DoD) missions, as well as the first unclassified defense-related mission.',\n",
              " 'In addition, Discovery was vital to the construction of the International Space Station (ISS); she flew thirteen of the thirty-seven total missions flown to the station by a U.S. Space Shuttle.',\n",
              " 'She was the first orbiter to dock to the ISS, and the first to perform an exchange of a resident crew.',\n",
              " 'Under Criterion C, Discovery is significant as a feat of engineering.',\n",
              " 'According to Wayne Hale, a flight director from Johnson Space Center, the Space Shuttle orbiter represents a “huge technological leap from expendable rockets and capsules to a reusable, winged, hypersonic, cargo-carrying spacecraft.” Although her base structure followed a conventional aircraft design, she used advanced materials that both minimized her weight for cargo-carrying purposes and featured low thermal expansion ratios, which provided a stable base for her Thermal Protection System (TPS) materials.',\n",
              " 'The Space Shuttle orbiter also featured the first reusable TPS; all previous spaceflight vehicles had a single-use, ablative heat shield.',\n",
              " 'Other notable engineering achievements of the orbiter included the first reusable orbital propulsion system, and the first two-fault-tolerant Integrated Avionics System.',\n",
              " 'As Hale stated, the Space Shuttle remains “the largest, fastest, winged hypersonic aircraft in history,” having regularly flown at twenty-five times the speed of sound.']"
            ]
          },
          "metadata": {},
          "execution_count": 33
        }
      ]
    },
    {
      "cell_type": "code",
      "source": [
        "stop_words"
      ],
      "metadata": {
        "colab": {
          "base_uri": "https://localhost:8080/"
        },
        "id": "5Vf46ToCfZlJ",
        "outputId": "c06fa11d-322c-4b35-adb6-9031daad0218"
      },
      "execution_count": 34,
      "outputs": [
        {
          "output_type": "execute_result",
          "data": {
            "text/plain": [
              "{'a',\n",
              " 'about',\n",
              " 'above',\n",
              " 'after',\n",
              " 'again',\n",
              " 'against',\n",
              " 'ain',\n",
              " 'all',\n",
              " 'am',\n",
              " 'an',\n",
              " 'and',\n",
              " 'any',\n",
              " 'are',\n",
              " 'aren',\n",
              " \"aren't\",\n",
              " 'as',\n",
              " 'at',\n",
              " 'be',\n",
              " 'because',\n",
              " 'been',\n",
              " 'before',\n",
              " 'being',\n",
              " 'below',\n",
              " 'between',\n",
              " 'both',\n",
              " 'but',\n",
              " 'by',\n",
              " 'can',\n",
              " 'couldn',\n",
              " \"couldn't\",\n",
              " 'd',\n",
              " 'did',\n",
              " 'didn',\n",
              " \"didn't\",\n",
              " 'do',\n",
              " 'does',\n",
              " 'doesn',\n",
              " \"doesn't\",\n",
              " 'doing',\n",
              " 'don',\n",
              " \"don't\",\n",
              " 'down',\n",
              " 'during',\n",
              " 'each',\n",
              " 'few',\n",
              " 'for',\n",
              " 'from',\n",
              " 'further',\n",
              " 'had',\n",
              " 'hadn',\n",
              " \"hadn't\",\n",
              " 'has',\n",
              " 'hasn',\n",
              " \"hasn't\",\n",
              " 'have',\n",
              " 'haven',\n",
              " \"haven't\",\n",
              " 'having',\n",
              " 'he',\n",
              " 'her',\n",
              " 'here',\n",
              " 'hers',\n",
              " 'herself',\n",
              " 'him',\n",
              " 'himself',\n",
              " 'his',\n",
              " 'how',\n",
              " 'i',\n",
              " 'if',\n",
              " 'in',\n",
              " 'into',\n",
              " 'is',\n",
              " 'isn',\n",
              " \"isn't\",\n",
              " 'it',\n",
              " \"it's\",\n",
              " 'its',\n",
              " 'itself',\n",
              " 'just',\n",
              " 'll',\n",
              " 'm',\n",
              " 'ma',\n",
              " 'me',\n",
              " 'mightn',\n",
              " \"mightn't\",\n",
              " 'more',\n",
              " 'most',\n",
              " 'mustn',\n",
              " \"mustn't\",\n",
              " 'my',\n",
              " 'myself',\n",
              " 'needn',\n",
              " \"needn't\",\n",
              " 'no',\n",
              " 'nor',\n",
              " 'not',\n",
              " 'now',\n",
              " 'o',\n",
              " 'of',\n",
              " 'off',\n",
              " 'on',\n",
              " 'once',\n",
              " 'only',\n",
              " 'or',\n",
              " 'other',\n",
              " 'our',\n",
              " 'ours',\n",
              " 'ourselves',\n",
              " 'out',\n",
              " 'over',\n",
              " 'own',\n",
              " 're',\n",
              " 's',\n",
              " 'same',\n",
              " 'shan',\n",
              " \"shan't\",\n",
              " 'she',\n",
              " \"she's\",\n",
              " 'should',\n",
              " \"should've\",\n",
              " 'shouldn',\n",
              " \"shouldn't\",\n",
              " 'so',\n",
              " 'some',\n",
              " 'such',\n",
              " 't',\n",
              " 'than',\n",
              " 'that',\n",
              " \"that'll\",\n",
              " 'the',\n",
              " 'their',\n",
              " 'theirs',\n",
              " 'them',\n",
              " 'themselves',\n",
              " 'then',\n",
              " 'there',\n",
              " 'these',\n",
              " 'they',\n",
              " 'this',\n",
              " 'those',\n",
              " 'through',\n",
              " 'to',\n",
              " 'too',\n",
              " 'under',\n",
              " 'until',\n",
              " 'up',\n",
              " 've',\n",
              " 'very',\n",
              " 'was',\n",
              " 'wasn',\n",
              " \"wasn't\",\n",
              " 'we',\n",
              " 'were',\n",
              " 'weren',\n",
              " \"weren't\",\n",
              " 'what',\n",
              " 'when',\n",
              " 'where',\n",
              " 'which',\n",
              " 'while',\n",
              " 'who',\n",
              " 'whom',\n",
              " 'why',\n",
              " 'will',\n",
              " 'with',\n",
              " 'won',\n",
              " \"won't\",\n",
              " 'wouldn',\n",
              " \"wouldn't\",\n",
              " 'y',\n",
              " 'you',\n",
              " \"you'd\",\n",
              " \"you'll\",\n",
              " \"you're\",\n",
              " \"you've\",\n",
              " 'your',\n",
              " 'yours',\n",
              " 'yourself',\n",
              " 'yourselves'}"
            ]
          },
          "metadata": {},
          "execution_count": 34
        }
      ]
    },
    {
      "cell_type": "code",
      "source": [
        "punctuation"
      ],
      "metadata": {
        "colab": {
          "base_uri": "https://localhost:8080/",
          "height": 35
        },
        "id": "iqUrngemfdSq",
        "outputId": "42653871-db85-4410-8b23-39bdf80d3eee"
      },
      "execution_count": 35,
      "outputs": [
        {
          "output_type": "execute_result",
          "data": {
            "text/plain": [
              "'!\"#$%&\\'()*+,-./:;<=>?@[\\\\]^_`{|}~'"
            ],
            "application/vnd.google.colaboratory.intrinsic+json": {
              "type": "string"
            }
          },
          "metadata": {},
          "execution_count": 35
        }
      ]
    },
    {
      "cell_type": "code",
      "source": [
        "# Calculate word frequencies\n",
        "word_frequencies = {}\n",
        "for word in word_tokenize(text.lower()):\n",
        "    if word not in stop_words and word not in punctuation:\n",
        "        if word not in word_frequencies:\n",
        "            word_frequencies[word] = 1\n",
        "        else:\n",
        "            word_frequencies[word] += 1"
      ],
      "metadata": {
        "id": "oFmUUcn9GG-e"
      },
      "execution_count": 26,
      "outputs": []
    },
    {
      "cell_type": "code",
      "source": [
        "# Normalize frequencies\n",
        "max_frequency = max(word_frequencies.values())\n",
        "for word in word_frequencies:\n",
        "    word_frequencies[word] /= max_frequency"
      ],
      "metadata": {
        "id": "V4HvMy8wGgg4"
      },
      "execution_count": 27,
      "outputs": []
    },
    {
      "cell_type": "code",
      "source": [
        "word_frequencies"
      ],
      "metadata": {
        "colab": {
          "base_uri": "https://localhost:8080/"
        },
        "id": "qRJb23Q6fj47",
        "outputId": "847b4da3-f62f-4ef2-dcc4-450c9129c1fa"
      },
      "execution_count": 36,
      "outputs": [
        {
          "output_type": "execute_result",
          "data": {
            "text/plain": [
              "{'orbiter': 0.5384615384615384,\n",
              " 'discovery': 0.5384615384615384,\n",
              " 'ov-103': 0.07692307692307693,\n",
              " 'considered': 0.07692307692307693,\n",
              " 'eligible': 0.07692307692307693,\n",
              " 'listing': 0.07692307692307693,\n",
              " 'national': 0.07692307692307693,\n",
              " 'register': 0.07692307692307693,\n",
              " 'historic': 0.07692307692307693,\n",
              " 'places': 0.07692307692307693,\n",
              " 'nrhp': 0.07692307692307693,\n",
              " 'context': 0.07692307692307693,\n",
              " 'u.s.': 0.15384615384615385,\n",
              " 'space': 1.0,\n",
              " 'shuttle': 0.6153846153846154,\n",
              " 'program': 0.23076923076923078,\n",
              " '1969-2011': 0.07692307692307693,\n",
              " 'criterion': 0.3076923076923077,\n",
              " 'areas': 0.07692307692307693,\n",
              " 'exploration': 0.07692307692307693,\n",
              " 'transportation': 0.07692307692307693,\n",
              " 'c': 0.15384615384615385,\n",
              " 'area': 0.07692307692307693,\n",
              " 'engineering': 0.23076923076923078,\n",
              " 'achieved': 0.07692307692307693,\n",
              " 'significance': 0.07692307692307693,\n",
              " 'within': 0.07692307692307693,\n",
              " 'past': 0.07692307692307693,\n",
              " 'fifty': 0.07692307692307693,\n",
              " 'years': 0.07692307692307693,\n",
              " 'criteria': 0.07692307692307693,\n",
              " 'consideration': 0.07692307692307693,\n",
              " 'g': 0.07692307692307693,\n",
              " 'applies': 0.07692307692307693,\n",
              " 'significant': 0.15384615384615385,\n",
              " 'oldest': 0.07692307692307693,\n",
              " 'three': 0.07692307692307693,\n",
              " 'extant': 0.07692307692307693,\n",
              " 'vehicles': 0.15384615384615385,\n",
              " 'constructed': 0.07692307692307693,\n",
              " 'ssp': 0.15384615384615385,\n",
              " 'longest': 0.07692307692307693,\n",
              " 'running': 0.07692307692307693,\n",
              " 'american': 0.07692307692307693,\n",
              " 'date': 0.07692307692307693,\n",
              " 'third': 0.07692307692307693,\n",
              " 'five': 0.15384615384615385,\n",
              " 'orbiters': 0.15384615384615385,\n",
              " 'built': 0.07692307692307693,\n",
              " 'nasa': 0.07692307692307693,\n",
              " 'unlike': 0.07692307692307693,\n",
              " 'mercury': 0.07692307692307693,\n",
              " 'gemini': 0.07692307692307693,\n",
              " 'apollo': 0.07692307692307693,\n",
              " 'programs': 0.07692307692307693,\n",
              " '’': 0.07692307692307693,\n",
              " 'emphasis': 0.07692307692307693,\n",
              " 'cost': 0.07692307692307693,\n",
              " 'effectiveness': 0.07692307692307693,\n",
              " 'reusability': 0.07692307692307693,\n",
              " 'eventually': 0.07692307692307693,\n",
              " 'construction': 0.15384615384615385,\n",
              " 'station': 0.23076923076923078,\n",
              " 'including': 0.07692307692307693,\n",
              " 'maiden': 0.07692307692307693,\n",
              " 'voyage': 0.07692307692307693,\n",
              " 'launched': 0.07692307692307693,\n",
              " 'august': 0.07692307692307693,\n",
              " '30': 0.07692307692307693,\n",
              " '1984': 0.07692307692307693,\n",
              " 'flew': 0.23076923076923078,\n",
              " 'thirty-nine': 0.07692307692307693,\n",
              " 'times': 0.15384615384615385,\n",
              " 'four': 0.07692307692307693,\n",
              " 'also': 0.23076923076923078,\n",
              " 'first': 0.7692307692307693,\n",
              " 'fly': 0.23076923076923078,\n",
              " 'twenty': 0.07692307692307693,\n",
              " 'missions': 0.3076923076923077,\n",
              " 'honor': 0.07692307692307693,\n",
              " 'chosen': 0.07692307692307693,\n",
              " 'return': 0.07692307692307693,\n",
              " 'flight': 0.15384615384615385,\n",
              " 'vehicle': 0.07692307692307693,\n",
              " 'challenger': 0.15384615384615385,\n",
              " 'columbia': 0.07692307692307693,\n",
              " 'accidents': 0.07692307692307693,\n",
              " 'redesigned': 0.07692307692307693,\n",
              " 'srbs': 0.07692307692307693,\n",
              " 'result': 0.07692307692307693,\n",
              " 'accident': 0.07692307692307693,\n",
              " 'phase': 0.07692307692307693,\n",
              " 'ii': 0.07692307692307693,\n",
              " 'block': 0.07692307692307693,\n",
              " 'ssme': 0.07692307692307693,\n",
              " 'carried': 0.07692307692307693,\n",
              " 'hubble': 0.07692307692307693,\n",
              " 'telescope': 0.07692307692307693,\n",
              " 'orbit': 0.07692307692307693,\n",
              " 'performed': 0.07692307692307693,\n",
              " 'two': 0.07692307692307693,\n",
              " 'servicing': 0.07692307692307693,\n",
              " 'observatory': 0.07692307692307693,\n",
              " 'last': 0.07692307692307693,\n",
              " 'dedicated': 0.07692307692307693,\n",
              " 'department': 0.07692307692307693,\n",
              " 'defense': 0.07692307692307693,\n",
              " 'dod': 0.07692307692307693,\n",
              " 'well': 0.07692307692307693,\n",
              " 'unclassified': 0.07692307692307693,\n",
              " 'defense-related': 0.07692307692307693,\n",
              " 'mission': 0.07692307692307693,\n",
              " 'addition': 0.07692307692307693,\n",
              " 'vital': 0.07692307692307693,\n",
              " 'international': 0.07692307692307693,\n",
              " 'iss': 0.15384615384615385,\n",
              " 'thirteen': 0.07692307692307693,\n",
              " 'thirty-seven': 0.07692307692307693,\n",
              " 'total': 0.07692307692307693,\n",
              " 'flown': 0.15384615384615385,\n",
              " 'dock': 0.07692307692307693,\n",
              " 'perform': 0.07692307692307693,\n",
              " 'exchange': 0.07692307692307693,\n",
              " 'resident': 0.07692307692307693,\n",
              " 'crew': 0.07692307692307693,\n",
              " 'feat': 0.07692307692307693,\n",
              " 'according': 0.07692307692307693,\n",
              " 'wayne': 0.07692307692307693,\n",
              " 'hale': 0.15384615384615385,\n",
              " 'director': 0.07692307692307693,\n",
              " 'johnson': 0.07692307692307693,\n",
              " 'center': 0.07692307692307693,\n",
              " 'represents': 0.07692307692307693,\n",
              " '“': 0.15384615384615385,\n",
              " 'huge': 0.07692307692307693,\n",
              " 'technological': 0.07692307692307693,\n",
              " 'leap': 0.07692307692307693,\n",
              " 'expendable': 0.07692307692307693,\n",
              " 'rockets': 0.07692307692307693,\n",
              " 'capsules': 0.07692307692307693,\n",
              " 'reusable': 0.23076923076923078,\n",
              " 'winged': 0.15384615384615385,\n",
              " 'hypersonic': 0.15384615384615385,\n",
              " 'cargo-carrying': 0.15384615384615385,\n",
              " 'spacecraft.': 0.07692307692307693,\n",
              " '”': 0.15384615384615385,\n",
              " 'although': 0.07692307692307693,\n",
              " 'base': 0.15384615384615385,\n",
              " 'structure': 0.07692307692307693,\n",
              " 'followed': 0.07692307692307693,\n",
              " 'conventional': 0.07692307692307693,\n",
              " 'aircraft': 0.15384615384615385,\n",
              " 'design': 0.07692307692307693,\n",
              " 'used': 0.07692307692307693,\n",
              " 'advanced': 0.07692307692307693,\n",
              " 'materials': 0.15384615384615385,\n",
              " 'minimized': 0.07692307692307693,\n",
              " 'weight': 0.07692307692307693,\n",
              " 'purposes': 0.07692307692307693,\n",
              " 'featured': 0.15384615384615385,\n",
              " 'low': 0.07692307692307693,\n",
              " 'thermal': 0.15384615384615385,\n",
              " 'expansion': 0.07692307692307693,\n",
              " 'ratios': 0.07692307692307693,\n",
              " 'provided': 0.07692307692307693,\n",
              " 'stable': 0.07692307692307693,\n",
              " 'protection': 0.07692307692307693,\n",
              " 'system': 0.23076923076923078,\n",
              " 'tps': 0.15384615384615385,\n",
              " 'previous': 0.07692307692307693,\n",
              " 'spaceflight': 0.07692307692307693,\n",
              " 'single-use': 0.07692307692307693,\n",
              " 'ablative': 0.07692307692307693,\n",
              " 'heat': 0.07692307692307693,\n",
              " 'shield': 0.07692307692307693,\n",
              " 'notable': 0.07692307692307693,\n",
              " 'achievements': 0.07692307692307693,\n",
              " 'included': 0.07692307692307693,\n",
              " 'orbital': 0.07692307692307693,\n",
              " 'propulsion': 0.07692307692307693,\n",
              " 'two-fault-tolerant': 0.07692307692307693,\n",
              " 'integrated': 0.07692307692307693,\n",
              " 'avionics': 0.07692307692307693,\n",
              " 'stated': 0.07692307692307693,\n",
              " 'remains': 0.07692307692307693,\n",
              " 'largest': 0.07692307692307693,\n",
              " 'fastest': 0.07692307692307693,\n",
              " 'history': 0.07692307692307693,\n",
              " 'regularly': 0.07692307692307693,\n",
              " 'twenty-five': 0.07692307692307693,\n",
              " 'speed': 0.07692307692307693,\n",
              " 'sound': 0.07692307692307693}"
            ]
          },
          "metadata": {},
          "execution_count": 36
        }
      ]
    },
    {
      "cell_type": "code",
      "source": [
        "# Score sentences based on word frequencies\n",
        "sentence_scores = {}\n",
        "for sent in sentences:\n",
        "    for word in word_tokenize(sent.lower()):\n",
        "        if word in word_frequencies:\n",
        "            if sent not in sentence_scores:\n",
        "                sentence_scores[sent] = word_frequencies[word]\n",
        "            else:\n",
        "                sentence_scores[sent] += word_frequencies[word]"
      ],
      "metadata": {
        "id": "AK7hQpjGQ5eL"
      },
      "execution_count": 28,
      "outputs": []
    },
    {
      "cell_type": "code",
      "source": [
        "sentence_scores"
      ],
      "metadata": {
        "colab": {
          "base_uri": "https://localhost:8080/"
        },
        "id": "TjS4cxnPbcMj",
        "outputId": "6d3c4b7d-f60e-4be4-c83a-5829eb118993"
      },
      "execution_count": 31,
      "outputs": [
        {
          "output_type": "execute_result",
          "data": {
            "text/plain": [
              "{'The Orbiter Discovery, OV-103, is considered eligible for listing in the National Register of Historic Places (NRHP) in the context of the U.S. Space Shuttle Program (1969-2011) under Criterion A in the areas of Space Exploration and Transportation and under Criterion C in the area of Engineering.': 6.23076923076923,\n",
              " 'Because it has achieved significance within the past fifty years, Criteria Consideration G applies.': 0.7692307692307692,\n",
              " 'Under Criterion A, Discovery is significant as the oldest of the three extant orbiter vehicles constructed for the Space Shuttle Program (SSP), the longest running American space program to date; she was the third of five orbiters built by NASA.': 6.076923076923076,\n",
              " 'Unlike the Mercury, Gemini, and Apollo programs, the SSP’s emphasis was on cost effectiveness and reusability, and eventually the construction of a space station.': 2.3846153846153846,\n",
              " 'Including her maiden voyage (launched August 30, 1984), Discovery flew to space thirty-nine times, more than any of the other four orbiters; she was also the first orbiter to fly twenty missions.': 4.923076923076923,\n",
              " 'She had the honor of being chosen as the Return to Flight vehicle after both the Challenger and Columbia accidents.': 0.7692307692307692,\n",
              " 'Discovery was the first shuttle to fly with the redesigned SRBs, a result of the Challenger accident, and the first shuttle to fly with the Phase II and Block I SSME.': 4.538461538461537,\n",
              " 'Discovery also carried the Hubble Space Telescope to orbit and performed two of the five servicing missions to the observatory.': 2.8461538461538463,\n",
              " 'She flew the first and last dedicated Department of Defense (DoD) missions, as well as the first unclassified defense-related mission.': 2.7692307692307696,\n",
              " 'In addition, Discovery was vital to the construction of the International Space Station (ISS); she flew thirteen of the thirty-seven total missions flown to the station by a U.S. Space Shuttle.': 5.230769230769232,\n",
              " 'She was the first orbiter to dock to the ISS, and the first to perform an exchange of a resident crew.': 2.615384615384616,\n",
              " 'Under Criterion C, Discovery is significant as a feat of engineering.': 1.4615384615384615,\n",
              " 'According to Wayne Hale, a flight director from Johnson Space Center, the Space Shuttle orbiter represents a “huge technological leap from expendable rockets and capsules to a reusable, winged, hypersonic, cargo-carrying spacecraft.” Although her base structure followed a conventional aircraft design, she used advanced materials that both minimized her weight for cargo-carrying purposes and featured low thermal expansion ratios, which provided a stable base for her Thermal Protection System (TPS) materials.': 8.461538461538458,\n",
              " 'The Space Shuttle orbiter also featured the first reusable TPS; all previous spaceflight vehicles had a single-use, ablative heat shield.': 4.307692307692307,\n",
              " 'Other notable engineering achievements of the orbiter included the first reusable orbital propulsion system, and the first two-fault-tolerant Integrated Avionics System.': 3.6153846153846163,\n",
              " 'As Hale stated, the Space Shuttle remains “the largest, fastest, winged hypersonic aircraft in history,” having regularly flown at twenty-five times the speed of sound.': 3.538461538461539}"
            ]
          },
          "metadata": {},
          "execution_count": 31
        }
      ]
    },
    {
      "cell_type": "code",
      "source": [
        "# Select top N sentences as summary\n",
        "import heapq\n",
        "summary_sentences = heapq.nlargest(2, sentence_scores, key=sentence_scores.get)\n",
        "summary = ' '.join(summary_sentences)\n",
        "\n",
        "print(\"Summary:\", summary)"
      ],
      "metadata": {
        "colab": {
          "base_uri": "https://localhost:8080/"
        },
        "id": "XgplcPO_S3l4",
        "outputId": "4fefdab3-4ec3-40c9-87bf-3f49367ece25"
      },
      "execution_count": 29,
      "outputs": [
        {
          "output_type": "stream",
          "name": "stdout",
          "text": [
            "Summary: According to Wayne Hale, a flight director from Johnson Space Center, the Space Shuttle orbiter represents a “huge technological leap from expendable rockets and capsules to a reusable, winged, hypersonic, cargo-carrying spacecraft.” Although her base structure followed a conventional aircraft design, she used advanced materials that both minimized her weight for cargo-carrying purposes and featured low thermal expansion ratios, which provided a stable base for her Thermal Protection System (TPS) materials. The Orbiter Discovery, OV-103, is considered eligible for listing in the National Register of Historic Places (NRHP) in the context of the U.S. Space Shuttle Program (1969-2011) under Criterion A in the areas of Space Exploration and Transportation and under Criterion C in the area of Engineering.\n"
          ]
        }
      ]
    }
  ]
}