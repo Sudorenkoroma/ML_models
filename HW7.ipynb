{
  "nbformat": 4,
  "nbformat_minor": 0,
  "metadata": {
    "colab": {
      "provenance": [],
      "authorship_tag": "ABX9TyNgdr+k1xjFRXyJQidYYt+T",
      "include_colab_link": true
    },
    "kernelspec": {
      "name": "python3",
      "display_name": "Python 3"
    },
    "language_info": {
      "name": "python"
    }
  },
  "cells": [
    {
      "cell_type": "markdown",
      "metadata": {
        "id": "view-in-github",
        "colab_type": "text"
      },
      "source": [
        "<a href=\"https://colab.research.google.com/github/Sudorenkoroma/HW_GI_ML/blob/main/HW7.ipynb\" target=\"_parent\"><img src=\"https://colab.research.google.com/assets/colab-badge.svg\" alt=\"Open In Colab\"/></a>"
      ]
    },
    {
      "cell_type": "code",
      "source": [
        "!pip install scikit-surprise"
      ],
      "metadata": {
        "colab": {
          "base_uri": "https://localhost:8080/"
        },
        "id": "fePEiOBtdeua",
        "outputId": "affaae59-e600-4a4c-8557-55a95d2527ad"
      },
      "execution_count": null,
      "outputs": [
        {
          "output_type": "stream",
          "name": "stdout",
          "text": [
            "Collecting scikit-surprise\n",
            "  Downloading scikit_surprise-1.1.4.tar.gz (154 kB)\n",
            "\u001b[?25l     \u001b[90m━━━━━━━━━━━━━━━━━━━━━━━━━━━━━━━━━━━━━━━━\u001b[0m \u001b[32m0.0/154.4 kB\u001b[0m \u001b[31m?\u001b[0m eta \u001b[36m-:--:--\u001b[0m\r\u001b[2K     \u001b[91m━━━━━━━━━━━━━━━━━━━━━━━━━━━━━━━━━━━━━━━\u001b[0m\u001b[91m╸\u001b[0m \u001b[32m153.6/154.4 kB\u001b[0m \u001b[31m4.7 MB/s\u001b[0m eta \u001b[36m0:00:01\u001b[0m\r\u001b[2K     \u001b[90m━━━━━━━━━━━━━━━━━━━━━━━━━━━━━━━━━━━━━━━━\u001b[0m \u001b[32m154.4/154.4 kB\u001b[0m \u001b[31m3.5 MB/s\u001b[0m eta \u001b[36m0:00:00\u001b[0m\n",
            "\u001b[?25h  Installing build dependencies ... \u001b[?25l\u001b[?25hdone\n",
            "  Getting requirements to build wheel ... \u001b[?25l\u001b[?25hdone\n",
            "  Preparing metadata (pyproject.toml) ... \u001b[?25l\u001b[?25hdone\n",
            "Requirement already satisfied: joblib>=1.2.0 in /usr/local/lib/python3.10/dist-packages (from scikit-surprise) (1.4.2)\n",
            "Requirement already satisfied: numpy>=1.19.5 in /usr/local/lib/python3.10/dist-packages (from scikit-surprise) (1.25.2)\n",
            "Requirement already satisfied: scipy>=1.6.0 in /usr/local/lib/python3.10/dist-packages (from scikit-surprise) (1.11.4)\n",
            "Building wheels for collected packages: scikit-surprise\n",
            "  Building wheel for scikit-surprise (pyproject.toml) ... \u001b[?25l\u001b[?25hdone\n",
            "  Created wheel for scikit-surprise: filename=scikit_surprise-1.1.4-cp310-cp310-linux_x86_64.whl size=2357254 sha256=024c346b29312c81b1bb3119ce35628e7a1e1d20801d4d1f1156585527577a51\n",
            "  Stored in directory: /root/.cache/pip/wheels/4b/3f/df/6acbf0a40397d9bf3ff97f582cc22fb9ce66adde75bc71fd54\n",
            "Successfully built scikit-surprise\n",
            "Installing collected packages: scikit-surprise\n",
            "Successfully installed scikit-surprise-1.1.4\n"
          ]
        }
      ]
    },
    {
      "cell_type": "code",
      "execution_count": null,
      "metadata": {
        "id": "4gQsvntKdSiJ"
      },
      "outputs": [],
      "source": [
        "from surprise import Dataset\n",
        "from surprise import Dataset\n",
        "from surprise import Reader\n",
        "from surprise.model_selection import train_test_split\n",
        "from surprise.model_selection import cross_validate\n",
        "from surprise import SVDpp\n",
        "from surprise import NMF\n",
        "from surprise import SVD\n",
        "from surprise.model_selection import GridSearchCV"
      ]
    },
    {
      "cell_type": "code",
      "source": [
        "# Завантаження датасету MovieLens\n",
        "data = Dataset.load_builtin('ml-100k')\n",
        "\n",
        "data.raw_ratings[:5]"
      ],
      "metadata": {
        "colab": {
          "base_uri": "https://localhost:8080/"
        },
        "id": "TBLN7EtvdYw9",
        "outputId": "b6910097-1337-4bab-99ec-11ee10c0aabf"
      },
      "execution_count": null,
      "outputs": [
        {
          "output_type": "stream",
          "name": "stdout",
          "text": [
            "Dataset ml-100k could not be found. Do you want to download it? [Y/n] Y\n",
            "Trying to download dataset from https://files.grouplens.org/datasets/movielens/ml-100k.zip...\n",
            "Done! Dataset ml-100k has been saved to /root/.surprise_data/ml-100k\n"
          ]
        },
        {
          "output_type": "execute_result",
          "data": {
            "text/plain": [
              "[('196', '242', 3.0, '881250949'),\n",
              " ('186', '302', 3.0, '891717742'),\n",
              " ('22', '377', 1.0, '878887116'),\n",
              " ('244', '51', 2.0, '880606923'),\n",
              " ('166', '346', 1.0, '886397596')]"
            ]
          },
          "metadata": {},
          "execution_count": 4
        }
      ]
    },
    {
      "cell_type": "code",
      "source": [
        "# Розділення на тренувальний та тестовий набори\n",
        "trainset, testset = train_test_split(data, test_size=0.2)\n"
      ],
      "metadata": {
        "id": "JEClswMRjUlY"
      },
      "execution_count": null,
      "outputs": []
    },
    {
      "cell_type": "markdown",
      "source": [
        "# SVD"
      ],
      "metadata": {
        "id": "s8AFUfEVkOjC"
      }
    },
    {
      "cell_type": "code",
      "source": [
        "# Визначення діапазону параметрів для SVD\n",
        "param_grid = {'n_epochs': [20, 30], 'lr_all': [0.002, 0.005], 'reg_all': [0.4, 0.6]}\n",
        "gs_svd = GridSearchCV(SVD, param_grid, measures=['rmse', 'mae'], cv=3)\n",
        "\n",
        "# Навчання моделей та пошук найкращих параметрів\n",
        "gs_svd.fit(data)\n",
        "\n",
        "# Виведення найкращих параметрів та результатів\n",
        "print(\"Best SVD parameters: \", gs_svd.best_params['rmse'])\n",
        "print(\"Best RMSE score: \", gs_svd.best_score['rmse'])"
      ],
      "metadata": {
        "colab": {
          "base_uri": "https://localhost:8080/"
        },
        "id": "rWpQugUEjmYi",
        "outputId": "bc2e3cb6-69e2-405e-c0d3-721cdef16698"
      },
      "execution_count": null,
      "outputs": [
        {
          "output_type": "stream",
          "name": "stdout",
          "text": [
            "Best SVD parameters:  {'n_epochs': 30, 'lr_all': 0.005, 'reg_all': 0.4}\n",
            "Best RMSE score:  0.9570310237016382\n"
          ]
        }
      ]
    },
    {
      "cell_type": "markdown",
      "source": [
        "# SVD++"
      ],
      "metadata": {
        "id": "jOaAZOpdkUlC"
      }
    },
    {
      "cell_type": "code",
      "source": [
        "# Визначення діапазону параметрів для SVD++\n",
        "param_grid = {'n_epochs': [20, 30], 'lr_all': [0.002, 0.005], 'reg_all': [0.4, 0.6]}\n",
        "gs_svdpp = GridSearchCV(SVDpp, param_grid, measures=['rmse', 'mae'], cv=3)\n",
        "\n",
        "# Навчання моделей та пошук найкращих параметрів\n",
        "gs_svdpp.fit(data)\n",
        "\n",
        "# Виведення найкращих параметрів та результатів\n",
        "print(\"Best SVD++ parameters: \", gs_svdpp.best_params['rmse'])\n",
        "print(\"Best RMSE score: \", gs_svdpp.best_score['rmse'])"
      ],
      "metadata": {
        "colab": {
          "base_uri": "https://localhost:8080/"
        },
        "id": "fIjrTeDQkTE4",
        "outputId": "e528d097-3f50-4ca1-efd2-6c8bfead718f"
      },
      "execution_count": null,
      "outputs": [
        {
          "output_type": "stream",
          "name": "stdout",
          "text": [
            "Best SVD++ parameters:  {'n_epochs': 30, 'lr_all': 0.005, 'reg_all': 0.4}\n",
            "Best RMSE score:  0.9572771185332201\n"
          ]
        }
      ]
    },
    {
      "cell_type": "markdown",
      "source": [
        "#NMF"
      ],
      "metadata": {
        "id": "TpcUWOIbkhOt"
      }
    },
    {
      "cell_type": "code",
      "source": [
        "# Визначення діапазону параметрів для NMF\n",
        "param_grid = {'n_epochs': [20, 30], 'lr_bu': [0.002, 0.005], 'reg_pu': [0.4, 0.6]}\n",
        "gs_nmf = GridSearchCV(NMF, param_grid, measures=['rmse', 'mae'], cv=3)\n",
        "\n",
        "# Навчання моделей та пошук найкращих параметрів\n",
        "gs_nmf.fit(data)\n",
        "\n",
        "# Виведення найкращих параметрів та результатів\n",
        "print(\"Best NMF parameters: \", gs_nmf.best_params['rmse'])\n",
        "print(\"Best RMSE score: \", gs_nmf.best_score['rmse'])"
      ],
      "metadata": {
        "colab": {
          "base_uri": "https://localhost:8080/"
        },
        "id": "SiHuCxWPkjCl",
        "outputId": "7a40b63b-249a-4053-ff3f-6e1dca50425c"
      },
      "execution_count": null,
      "outputs": [
        {
          "output_type": "stream",
          "name": "stdout",
          "text": [
            "Best NMF parameters:  {'n_epochs': 20, 'lr_bu': 0.005, 'reg_pu': 0.4}\n",
            "Best RMSE score:  0.9641330532512561\n"
          ]
        }
      ]
    },
    {
      "cell_type": "code",
      "source": [
        "# Обрання найкращої моделі\n",
        "best_model = min((gs_svd, 'SVD'), (gs_svdpp, 'SVD++'), (gs_nmf, 'NMF'), key=lambda x: x[0].best_score['rmse'])\n",
        "print(\"Optimal model is \", best_model[1], \" with RMSE \", best_model[0].best_score['rmse'])"
      ],
      "metadata": {
        "colab": {
          "base_uri": "https://localhost:8080/"
        },
        "id": "vwyD8ghp94sl",
        "outputId": "254bf5fb-9d3c-44d9-9314-f1bf7c5d8c93"
      },
      "execution_count": null,
      "outputs": [
        {
          "output_type": "stream",
          "name": "stdout",
          "text": [
            "Optimal model is  SVD  with RMSE  0.9570310237016382\n"
          ]
        }
      ]
    }
  ]
}