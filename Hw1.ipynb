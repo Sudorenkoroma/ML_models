{
  "nbformat": 4,
  "nbformat_minor": 0,
  "metadata": {
    "colab": {
      "provenance": [],
      "authorship_tag": "ABX9TyNMzBhAck1ujBuBiTAM86cQ",
      "include_colab_link": true
    },
    "kernelspec": {
      "name": "python3",
      "display_name": "Python 3"
    },
    "language_info": {
      "name": "python"
    }
  },
  "cells": [
    {
      "cell_type": "markdown",
      "metadata": {
        "id": "view-in-github",
        "colab_type": "text"
      },
      "source": [
        "<a href=\"https://colab.research.google.com/github/Sudorenkoroma/HW_GI_ML/blob/main/Hw1.ipynb\" target=\"_parent\"><img src=\"https://colab.research.google.com/assets/colab-badge.svg\" alt=\"Open In Colab\"/></a>"
      ]
    },
    {
      "cell_type": "code",
      "execution_count": 2,
      "metadata": {
        "id": "BDca5KUTu8hJ"
      },
      "outputs": [],
      "source": [
        "import numpy as np"
      ]
    },
    {
      "cell_type": "markdown",
      "source": [
        "Створення одновимірного масиву з першими 10-ма натуральними числами"
      ],
      "metadata": {
        "id": "KecphAL5zEHL"
      }
    },
    {
      "cell_type": "code",
      "source": [
        "vector = np.arange(1, 11)\n",
        "vector"
      ],
      "metadata": {
        "colab": {
          "base_uri": "https://localhost:8080/"
        },
        "id": "ZYpaCB8LzIMJ",
        "outputId": "056af235-e4eb-4069-f2a7-c0084e4efd41"
      },
      "execution_count": 4,
      "outputs": [
        {
          "output_type": "execute_result",
          "data": {
            "text/plain": [
              "array([ 1,  2,  3,  4,  5,  6,  7,  8,  9, 10])"
            ]
          },
          "metadata": {},
          "execution_count": 4
        }
      ]
    },
    {
      "cell_type": "markdown",
      "source": [
        "Створення двовимірного масиву 3x3, заповненого нулями"
      ],
      "metadata": {
        "id": "KAdN3yWxzpJb"
      }
    },
    {
      "cell_type": "code",
      "source": [
        "matrix_zeros = np.zeros((3, 3))\n",
        "matrix_zeros"
      ],
      "metadata": {
        "colab": {
          "base_uri": "https://localhost:8080/"
        },
        "id": "iw2ihR_Jzpln",
        "outputId": "d83c6831-c1fe-4c02-972c-8c6909edd6ec"
      },
      "execution_count": 5,
      "outputs": [
        {
          "output_type": "execute_result",
          "data": {
            "text/plain": [
              "array([[0., 0., 0.],\n",
              "       [0., 0., 0.],\n",
              "       [0., 0., 0.]])"
            ]
          },
          "metadata": {},
          "execution_count": 5
        }
      ]
    },
    {
      "cell_type": "markdown",
      "source": [
        "Створення масиву 5x5 з випадковими цілими числами від 1 до 10"
      ],
      "metadata": {
        "id": "dt3leXybzzpY"
      }
    },
    {
      "cell_type": "code",
      "source": [
        "matrix_random_int = np.random.randint(1, 11, size=(5, 5))\n",
        "matrix_random_int"
      ],
      "metadata": {
        "colab": {
          "base_uri": "https://localhost:8080/"
        },
        "id": "Rxyg5LmK1t3u",
        "outputId": "ba1c6084-1e0f-464e-c8ad-75094d1638a7"
      },
      "execution_count": 6,
      "outputs": [
        {
          "output_type": "execute_result",
          "data": {
            "text/plain": [
              "array([[10,  4, 10,  8,  2],\n",
              "       [10,  7,  8,  6,  7],\n",
              "       [ 6, 10,  1,  2,  1],\n",
              "       [ 6,  7,  4,  5,  4],\n",
              "       [ 9,  9,  2,  7,  4]])"
            ]
          },
          "metadata": {},
          "execution_count": 6
        }
      ]
    },
    {
      "cell_type": "markdown",
      "source": [
        "Створення масиву 4x4 з випадковими дійсними числами від 0 до"
      ],
      "metadata": {
        "id": "P9-9TykK17p6"
      }
    },
    {
      "cell_type": "code",
      "source": [
        "matrix_random_float = np.random.rand(4, 4)\n",
        "matrix_random_float"
      ],
      "metadata": {
        "colab": {
          "base_uri": "https://localhost:8080/"
        },
        "id": "Kt6EhlbY14yY",
        "outputId": "9841a618-6f6b-402a-bf51-5d0a420da8ac"
      },
      "execution_count": 7,
      "outputs": [
        {
          "output_type": "execute_result",
          "data": {
            "text/plain": [
              "array([[0.68576208, 0.18934854, 0.10131329, 0.43858269],\n",
              "       [0.35561092, 0.12255825, 0.56854406, 0.80869259],\n",
              "       [0.0381474 , 0.80592867, 0.30161209, 0.03241212],\n",
              "       [0.52249243, 0.59166776, 0.24705312, 0.28944985]])"
            ]
          },
          "metadata": {},
          "execution_count": 7
        }
      ]
    },
    {
      "cell_type": "markdown",
      "source": [
        "Створення двох одновимірних масивів розміром 5 з випадковими цілими числами від 1 до 10"
      ],
      "metadata": {
        "id": "Hjl0aIvc2K_M"
      }
    },
    {
      "cell_type": "code",
      "source": [
        "vector1 = np.random.randint(1, 11, size=5)\n",
        "vector2 = np.random.randint(1, 11, size=5)\n",
        "vector1 + vector2, vector1 - vector2, vector1 * vector2,"
      ],
      "metadata": {
        "colab": {
          "base_uri": "https://localhost:8080/"
        },
        "id": "UMLqqkft2KFE",
        "outputId": "d58e4089-baa4-4474-a160-435e5fc799a5"
      },
      "execution_count": 17,
      "outputs": [
        {
          "output_type": "execute_result",
          "data": {
            "text/plain": [
              "(array([14, 10, 13, 10, 15]),\n",
              " array([ 4,  6, -7, -4,  3]),\n",
              " array([45, 16, 30, 21, 54]))"
            ]
          },
          "metadata": {},
          "execution_count": 17
        }
      ]
    },
    {
      "cell_type": "markdown",
      "source": [
        "Створення двох векторів розміром 7 і знаходження їх скалярного добутку"
      ],
      "metadata": {
        "id": "eqXgqSJg2kTJ"
      }
    },
    {
      "cell_type": "code",
      "source": [
        "vector3 = np.random.rand(7)\n",
        "vector4 = np.random.rand(7)\n",
        "dot_product = np.dot(vector3, vector4)\n",
        "dot_product"
      ],
      "metadata": {
        "colab": {
          "base_uri": "https://localhost:8080/"
        },
        "id": "6L2N3ZS-2Los",
        "outputId": "6cca390e-80c1-43c4-afc7-027539245a9b"
      },
      "execution_count": 12,
      "outputs": [
        {
          "output_type": "execute_result",
          "data": {
            "text/plain": [
              "1.7398699446051695"
            ]
          },
          "metadata": {},
          "execution_count": 12
        }
      ]
    },
    {
      "cell_type": "markdown",
      "source": [
        "Створення і перемноження двох матриць розміром 2x2 та 2x3"
      ],
      "metadata": {
        "id": "5IDFCO2i2t6C"
      }
    },
    {
      "cell_type": "code",
      "source": [
        "matrix1 = np.random.randint(1, 11, size=(2, 2))\n",
        "matrix2 = np.random.randint(1, 11, size=(2, 3))\n",
        "matrix_product = np.dot(matrix1, matrix2)\n",
        "matrix_product"
      ],
      "metadata": {
        "colab": {
          "base_uri": "https://localhost:8080/"
        },
        "id": "kB0PP-Y62mfU",
        "outputId": "7edcb808-fbd6-4d6d-f664-48eec2b38b47"
      },
      "execution_count": 13,
      "outputs": [
        {
          "output_type": "execute_result",
          "data": {
            "text/plain": [
              "array([[15, 11, 34],\n",
              "       [16, 12, 36]])"
            ]
          },
          "metadata": {},
          "execution_count": 13
        }
      ]
    },
    {
      "cell_type": "markdown",
      "source": [
        "Обернена матриця для матриці 3x3"
      ],
      "metadata": {
        "id": "ph0rLerb23M8"
      }
    },
    {
      "cell_type": "code",
      "source": [
        "matrix3 = np.random.randint(1, 11, size=(3, 3))\n",
        "inverse_matrix = np.linalg.inv(matrix3)\n",
        "matrix3, inverse_matrix"
      ],
      "metadata": {
        "colab": {
          "base_uri": "https://localhost:8080/"
        },
        "id": "YFvxrSgv2xSi",
        "outputId": "0aad146c-53e8-4fb6-b244-7699f817293c"
      },
      "execution_count": 18,
      "outputs": [
        {
          "output_type": "execute_result",
          "data": {
            "text/plain": [
              "(array([[ 3, 10,  6],\n",
              "        [ 3,  3,  9],\n",
              "        [ 8,  2,  8]]),\n",
              " array([[ 0.01538462, -0.17435897,  0.18461538],\n",
              "        [ 0.12307692, -0.06153846, -0.02307692],\n",
              "        [-0.04615385,  0.18974359, -0.05384615]]))"
            ]
          },
          "metadata": {},
          "execution_count": 18
        }
      ]
    },
    {
      "cell_type": "markdown",
      "source": [
        "Транспонування матриці 4x4"
      ],
      "metadata": {
        "id": "5d1bSRGY3QEh"
      }
    },
    {
      "cell_type": "code",
      "source": [
        "matrix4 = np.random.rand(4, 4)\n",
        "transposed_matrix = matrix4.T\n",
        "matrix4, transposed_matrix"
      ],
      "metadata": {
        "colab": {
          "base_uri": "https://localhost:8080/"
        },
        "id": "VHpe9edK3Rwx",
        "outputId": "b2229e4f-a60b-4f72-ca1d-e4fcc4ac8f07"
      },
      "execution_count": 19,
      "outputs": [
        {
          "output_type": "execute_result",
          "data": {
            "text/plain": [
              "(array([[0.89865608, 0.48088816, 0.27728523, 0.76044591],\n",
              "        [0.52756006, 0.1264314 , 0.23107215, 0.0606903 ],\n",
              "        [0.59280828, 0.38099833, 0.27427093, 0.52708188],\n",
              "        [0.92056027, 0.4449648 , 0.71171314, 0.3130463 ]]),\n",
              " array([[0.89865608, 0.52756006, 0.59280828, 0.92056027],\n",
              "        [0.48088816, 0.1264314 , 0.38099833, 0.4449648 ],\n",
              "        [0.27728523, 0.23107215, 0.27427093, 0.71171314],\n",
              "        [0.76044591, 0.0606903 , 0.52708188, 0.3130463 ]]))"
            ]
          },
          "metadata": {},
          "execution_count": 19
        }
      ]
    },
    {
      "cell_type": "markdown",
      "source": [
        "Перемноження матриці 3x4 на вектор розміром 4"
      ],
      "metadata": {
        "id": "tAI20v-n3htD"
      }
    },
    {
      "cell_type": "code",
      "source": [
        "matrix5 = np.random.randint(1, 11, size=(3, 4))\n",
        "vector5 = np.random.randint(1, 11, size=4)\n",
        "matrix_vector_product = np.dot(matrix5, vector5)\n",
        "matrix_vector_product"
      ],
      "metadata": {
        "colab": {
          "base_uri": "https://localhost:8080/"
        },
        "id": "6lpGSWaZ3fmz",
        "outputId": "72728bf7-e0a1-48bf-e408-f86a3f31fb5a"
      },
      "execution_count": 21,
      "outputs": [
        {
          "output_type": "execute_result",
          "data": {
            "text/plain": [
              "array([ 51,  74, 107])"
            ]
          },
          "metadata": {},
          "execution_count": 21
        }
      ]
    },
    {
      "cell_type": "markdown",
      "source": [
        "Перемноження матриці 2x3 на вектор розміром 3 з випадковими дійсними числами"
      ],
      "metadata": {
        "id": "KEmEbwhY3yF_"
      }
    },
    {
      "cell_type": "code",
      "source": [
        "matrix6 = np.random.rand(2, 3)\n",
        "vector6 = np.random.rand(3)\n",
        "result1 = np.dot(matrix6, vector6)\n",
        "result1"
      ],
      "metadata": {
        "colab": {
          "base_uri": "https://localhost:8080/"
        },
        "id": "wV-_D3zr3gLd",
        "outputId": "2a410024-8c47-4169-d7ee-84c7454d4c7c"
      },
      "execution_count": 22,
      "outputs": [
        {
          "output_type": "execute_result",
          "data": {
            "text/plain": [
              "array([1.56064033, 0.73241169])"
            ]
          },
          "metadata": {},
          "execution_count": 22
        }
      ]
    },
    {
      "cell_type": "markdown",
      "source": [
        "Поелементне множення двох матриць 2x2"
      ],
      "metadata": {
        "id": "IkYRCsUe36LA"
      }
    },
    {
      "cell_type": "code",
      "source": [
        "matrix7 = np.random.randint(1, 11, size=(2, 2))\n",
        "matrix8 = np.random.randint(1, 11, size=(2, 2))\n",
        "elementwise_product = np.multiply(matrix7, matrix8)\n",
        "elementwise_product"
      ],
      "metadata": {
        "colab": {
          "base_uri": "https://localhost:8080/"
        },
        "id": "zq0_KDek37FI",
        "outputId": "17bcf1f9-bec4-422b-8c32-fb830fb3c3f3"
      },
      "execution_count": 23,
      "outputs": [
        {
          "output_type": "execute_result",
          "data": {
            "text/plain": [
              "array([[24, 35],\n",
              "       [28, 18]])"
            ]
          },
          "metadata": {},
          "execution_count": 23
        }
      ]
    },
    {
      "cell_type": "markdown",
      "source": [
        "Добуток двох матриць 2x2"
      ],
      "metadata": {
        "id": "SO5qNg2L4CTy"
      }
    },
    {
      "cell_type": "code",
      "source": [
        "matrix9 = np.random.randint(1, 11, size=(2, 2))\n",
        "matrix10 = np.random.randint(1, 11, size=(2, 2))\n",
        "product_matrix = np.dot(matrix9, matrix10)\n",
        "product_matrix"
      ],
      "metadata": {
        "colab": {
          "base_uri": "https://localhost:8080/"
        },
        "id": "Gyjhxb5R4EGa",
        "outputId": "0a0b91b6-23e9-43fd-84e4-5db3eaa3a744"
      },
      "execution_count": 25,
      "outputs": [
        {
          "output_type": "execute_result",
          "data": {
            "text/plain": [
              "array([[44, 46],\n",
              "       [49, 40]])"
            ]
          },
          "metadata": {},
          "execution_count": 25
        }
      ]
    },
    {
      "cell_type": "markdown",
      "source": [
        "Сума елементів матриці 5x5"
      ],
      "metadata": {
        "id": "50htm2ba4s4C"
      }
    },
    {
      "cell_type": "code",
      "source": [
        "matrix_for_sum = np.random.randint(1, 101, size=(5, 5))\n",
        "sum_elements = np.sum(matrix9)\n",
        "sum_elements"
      ],
      "metadata": {
        "colab": {
          "base_uri": "https://localhost:8080/"
        },
        "id": "FBoRvotP4qhx",
        "outputId": "ebb103a2-8aee-4561-dd41-72fe45a119cc"
      },
      "execution_count": 26,
      "outputs": [
        {
          "output_type": "execute_result",
          "data": {
            "text/plain": [
              "17"
            ]
          },
          "metadata": {},
          "execution_count": 26
        }
      ]
    },
    {
      "cell_type": "markdown",
      "source": [
        "Різниця між двома матрицями 4x4"
      ],
      "metadata": {
        "id": "7VSG3amW41qL"
      }
    },
    {
      "cell_type": "code",
      "source": [
        "matrix10 = np.random.randint(1, 11, size=(4, 4))\n",
        "matrix11 = np.random.randint(1, 11, size=(4, 4))\n",
        "difference_matrix = np.subtract(matrix10, matrix11)\n",
        "difference_matrix"
      ],
      "metadata": {
        "colab": {
          "base_uri": "https://localhost:8080/"
        },
        "id": "PAZsMnXb4eGs",
        "outputId": "64fb6ef9-0436-4af2-bebc-afc507a46b3a"
      },
      "execution_count": 27,
      "outputs": [
        {
          "output_type": "execute_result",
          "data": {
            "text/plain": [
              "array([[-6, -5,  4,  1],\n",
              "       [ 0, -8,  0,  1],\n",
              "       [ 3, -1,  2,  3],\n",
              "       [-2, -1, -4,  5]])"
            ]
          },
          "metadata": {},
          "execution_count": 27
        }
      ]
    },
    {
      "cell_type": "markdown",
      "source": [
        "Сума елементів кожного рядка матриці 3x3"
      ],
      "metadata": {
        "id": "28H6C1U45FWt"
      }
    },
    {
      "cell_type": "code",
      "source": [
        "matrix12 = np.random.rand(3, 3)\n",
        "row_sums = np.sum(matrix12, axis=1)\n",
        "row_sums"
      ],
      "metadata": {
        "colab": {
          "base_uri": "https://localhost:8080/"
        },
        "id": "juflJ02G5E8m",
        "outputId": "302fe393-6291-4b8a-f742-26139cbcde8c"
      },
      "execution_count": 28,
      "outputs": [
        {
          "output_type": "execute_result",
          "data": {
            "text/plain": [
              "array([1.49511427, 1.36732813, 1.79246148])"
            ]
          },
          "metadata": {},
          "execution_count": 28
        }
      ]
    },
    {
      "cell_type": "markdown",
      "source": [
        "Квадрати елементів матриці 3x4"
      ],
      "metadata": {
        "id": "zQpKorjj5OxA"
      }
    },
    {
      "cell_type": "code",
      "source": [
        "matrix13 = np.random.randint(1, 11, size=(3, 4))\n",
        "squared_matrix = np.square(matrix13)\n",
        "squared_matrix"
      ],
      "metadata": {
        "colab": {
          "base_uri": "https://localhost:8080/"
        },
        "id": "1XnsXJDJ5Oiv",
        "outputId": "d9fcc179-3975-4a79-bbe3-3050a9019f81"
      },
      "execution_count": 29,
      "outputs": [
        {
          "output_type": "execute_result",
          "data": {
            "text/plain": [
              "array([[ 64,  81,  16, 100],\n",
              "       [ 49,  49,  25,  25],\n",
              "       [  9,   9,  25, 100]])"
            ]
          },
          "metadata": {},
          "execution_count": 29
        }
      ]
    },
    {
      "cell_type": "markdown",
      "source": [
        "Вектор з квадратними коренями чисел"
      ],
      "metadata": {
        "id": "hUBycZ4z5Vgo"
      }
    },
    {
      "cell_type": "code",
      "source": [
        "vector7 = np.random.randint(1, 51, size=4)\n",
        "sqrt_vector = np.sqrt(vector7)\n",
        "sqrt_vector"
      ],
      "metadata": {
        "colab": {
          "base_uri": "https://localhost:8080/"
        },
        "id": "MzD_jjYP5WDA",
        "outputId": "9b903f7d-df1e-4240-bbfc-80fc9dde8832"
      },
      "execution_count": 30,
      "outputs": [
        {
          "output_type": "execute_result",
          "data": {
            "text/plain": [
              "array([4.47213595, 4.12310563, 4.        , 4.        ])"
            ]
          },
          "metadata": {},
          "execution_count": 30
        }
      ]
    }
  ]
}